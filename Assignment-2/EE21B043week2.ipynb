{
 "cells": [
  {
   "cell_type": "markdown",
   "id": "5b45ec84",
   "metadata": {},
   "source": [
    "# Assignment\n",
    "\n",
    "The following are the problems you need to solve for this assignment.  You need to submit your code (either as standalone Python script or a Python notebook), a PDF document explaining your solution (either generated from the notebook or a separate LaTeX document), and any supporting files you may have (such as circuit netlists you used for testing your code).\n",
    "\n",
    "- Write a function to find the factorial of N (N being an input) and find the time taken to compute it.  This will obviously depend on where you run the code and which approach you use to implement the factorial.  Explain your observations briefly.\n",
    "- Write a linear equation solver that will take in matrices $A$ and $b$ as inputs, and return the vector $x$ that solves the equation $Ax=b$.  Your function should catch errors in the inputs and return suitable error messages for different possible problems.\n",
    "  - Time your solver to solve a random $10\\times 10$ system of equations.  Compare the time taken against the `numpy.linalg.solve` function for the same inputs.\n",
    "- Given a circuit netlist in the form described above, read it in from a file, construct the appropriate matrices, and use the solver you have written above to obtain the voltages and currents in the circuit.  If you find AC circuits hard to handle, first do this for pure DC circuits, but you should be able to handle both voltage and current sources.\n",
    "\n",
    "## Bonus assignments\n",
    "\n",
    "- (Small bonus): after reading in the netlist, allow some or all sources and impedances to be controlled interactively - either using widgets or other mechanisms.  On each change you should recompute the currents and voltages and display them.\n",
    "- (Large bonus): make a solver that can do real-time transient simulations of a SPICE netlist and update the currents and voltages dynamically.  They should also be plotted as a function of time and react to changes.  This is something along the lines of https://www.falstad.com/circuit/.  Ideally you should be able to do a real-time demo of some experiments you might conduct as part of a basic electronics lab, and simulate the behaviour of an oscilloscope and signal generator."
   ]
  },
  {
   "cell_type": "markdown",
   "id": "0b36d1b9-61c2-4a62-9e7d-e6f03fc2bd8e",
   "metadata": {},
   "source": [
    "# Factorial"
   ]
  },
  {
   "cell_type": "markdown",
   "id": "5df5509b-a54b-467c-a400-d4c9fe85ff73",
   "metadata": {},
   "source": [
    "## Recursive approach"
   ]
  },
  {
   "cell_type": "code",
   "execution_count": 17,
   "id": "57da4c78-25ec-48b0-b622-333723005967",
   "metadata": {},
   "outputs": [
    {
     "name": "stdout",
     "output_type": "stream",
     "text": [
      "Enter Number  7\n"
     ]
    },
    {
     "name": "stdout",
     "output_type": "stream",
     "text": [
      "5040\n",
      "565 ns ± 18.3 ns per loop (mean ± std. dev. of 7 runs, 1,000,000 loops each)\n"
     ]
    }
   ],
   "source": [
    "def fac(n):\n",
    "    if(n<=1):\n",
    "        return 1\n",
    "    return n*fac(n-1)\n",
    "\n",
    "n=int(input(\"Enter Number \"))\n",
    "\n",
    "print(fac(n))\n",
    "%timeit fac(n)"
   ]
  },
  {
   "cell_type": "markdown",
   "id": "6fc56371-5301-4cdc-88c4-7a209e2fcdb4",
   "metadata": {},
   "source": [
    "The factorial function takes integer 'n' as input and returns it factorial  \n",
    "The function starts with a conditional statement 'if (n<=1)', which checks if the input value 'n' is less than or equal to 1. If 'n' is greater than 1, the function returns the result of 'n * fac(n-1)', where 'fac(n-1)' is a **recursive call** to the function 'fac' with an argument of 'n-1'.  \n",
    "\n",
    "The **'%timeit** fac(n)' line is a Jupyter magic command that calculates the execution time of the 'fac' function for the given input 'n'. The command outputs the average time taken to run the function multiple times, which gives a good estimate of the performance of the function."
   ]
  },
  {
   "cell_type": "markdown",
   "id": "ca110688-67b5-4cac-a9b6-7f30079f56f0",
   "metadata": {},
   "source": [
    "## For loop approach"
   ]
  },
  {
   "cell_type": "code",
   "execution_count": 18,
   "id": "9d9e73ec-ffba-4f10-9858-9638448d8e90",
   "metadata": {},
   "outputs": [
    {
     "name": "stdout",
     "output_type": "stream",
     "text": [
      "Enter Number  4\n"
     ]
    },
    {
     "name": "stdout",
     "output_type": "stream",
     "text": [
      "24\n",
      "271 ns ± 5.8 ns per loop (mean ± std. dev. of 7 runs, 1,000,000 loops each)\n"
     ]
    }
   ],
   "source": [
    "def fac(n):\n",
    "    ans=1;\n",
    "    for i in range(1,n+1):\n",
    "        ans=ans*i\n",
    "    return ans   \n",
    "n=int(input(\"Enter Number \"))\n",
    "print(fac(n));\n",
    "%timeit fac(n)"
   ]
  },
  {
   "cell_type": "markdown",
   "id": "312033be-8383-443e-9a09-c63f0914c118",
   "metadata": {},
   "source": [
    "Here also the function returns factorial of a given integer.  \n",
    "The function starts by initializing a variable 'ans' to 1. It then uses a **for loop** to iterate over the range '1 to n+1', and in each iteration, the variable 'ans' is updated as 'ans * i', where 'i' is the current iteration value\n"
   ]
  },
  {
   "cell_type": "markdown",
   "id": "d8246cac-e633-47f0-bdf6-28496eae11e8",
   "metadata": {},
   "source": [
    "### Comparision of time between two approaches\n"
   ]
  },
  {
   "cell_type": "markdown",
   "id": "9fc93ffc-78ba-4fec-8b1d-15156306546f",
   "metadata": {},
   "source": [
    "There is a difference in time between the recursive and for loop approaches.In the recursive approach, a function is called multiple times with different inputs, which requires **extra time and memory** to keep track of the intermediate results and function call frames.Each time the function is called, a new call frame is created, and the intermediate results are stored in the memory, which can lead to slow performance, especially for large numbers.  \n",
    "\n",
    "On the other hand, in the for loop approach, the calculation of the factorial is done iteratively in a **single function call**. There is no need to keep track of intermediate results or to create new function call frames, which makes the for loop approach more efficient than the recursive approach for calculating the factorial of a large number."
   ]
  },
  {
   "cell_type": "markdown",
   "id": "37fcbd75-4db9-4d7d-922f-9e8d987495d3",
   "metadata": {},
   "source": [
    "# Linear Equation Solver"
   ]
  },
  {
   "cell_type": "code",
   "execution_count": 6,
   "id": "8ac98fdc-239a-4f79-8f98-3181768b750b",
   "metadata": {},
   "outputs": [
    {
     "name": "stdout",
     "output_type": "stream",
     "text": [
      "Enter no of variables 2\n",
      "Enter no of equations 2\n"
     ]
    },
    {
     "name": "stdout",
     "output_type": "stream",
     "text": [
      "Enter the coefficients of equation 1,where each coefficient is space separated\n"
     ]
    },
    {
     "name": "stdout",
     "output_type": "stream",
     "text": [
      " 1 2\n"
     ]
    },
    {
     "name": "stdout",
     "output_type": "stream",
     "text": [
      "Enter the coefficients of equation 2,where each coefficient is space separated\n"
     ]
    },
    {
     "name": "stdout",
     "output_type": "stream",
     "text": [
      " 2 1\n"
     ]
    },
    {
     "name": "stdout",
     "output_type": "stream",
     "text": [
      "Enter the elements of the constant vector, where each element is space separated\n"
     ]
    },
    {
     "name": "stdout",
     "output_type": "stream",
     "text": [
      " 2 1\n"
     ]
    },
    {
     "name": "stdout",
     "output_type": "stream",
     "text": [
      "[0j, (1-0j)]\n"
     ]
    }
   ],
   "source": [
    "import random\n",
    "import numpy as np\n",
    "\n",
    "\n",
    "def swap(ag_mx,i,j):\n",
    "    temp=ag_mx[i]\n",
    "    ag_mx[i]=ag_mx[j]\n",
    "    ag_mx[j]=temp\n",
    "    \n",
    "def check_swap_row(t,ag_mx,n):\n",
    "    for l in range(0,n):\n",
    "        if ag_mx[l][t]!=0:\n",
    "            swap(ag_mx,t,l)\n",
    "            break\n",
    "\n",
    "def lin_eq_solver(A,B):\n",
    "    n=len(A)\n",
    "    ag_mx = []\n",
    "    for i in range(n):\n",
    "        ag_mx.append(A[i] + [B[i]])\n",
    "    for t in range(n):\n",
    "        if ag_mx[t][t] == 0:\n",
    "            check_swap_row(t,ag_mx,n)\n",
    "        norm = ag_mx[t][t]\n",
    "        for i in range(t, n+1):\n",
    "            ag_mx[t][i]=ag_mx[t][i]/norm\n",
    "        for i in range(n):\n",
    "            if i == t:\n",
    "                continue\n",
    "            norm = ag_mx[i][t]\n",
    "            for j in range(t, n+1):\n",
    "                ag_mx[i][j]=ag_mx[i][j]- norm * ag_mx[t][j]\n",
    "    for i in range(n):\n",
    "        if ag_mx[i][i]==0 and ag_mx[i][n]==0:\n",
    "            return \"The given system of linear equations has infinite solutions\"\n",
    "        elif ag_mx[i][i]==0 and ag_mx[i][n]!=0:\n",
    "            return \"The given system of linear equations has no solution\"\n",
    "    ans = [ag_mx[i][n] for i in range(n)]\n",
    "    return ans\n",
    "\n",
    "v=int(input(\"Enter no of variables\"))\n",
    "e=int(input(\"Enter no of equations\"))\n",
    "A=[]\n",
    "while v!= e:\n",
    "    print(\"Matrix is not square,please enter same no of variables and equations again.\")\n",
    "    v = int(input(\"Enter no of variables: \"))\n",
    "    e = int(input(\"Enter no of equations: \"))\n",
    "try:\n",
    "    for i in range(v):\n",
    "        print(f\"Enter the coefficients of equation {i+1},where each coefficient is space separated\")\n",
    "        row=[complex(x) for x in input().split()]\n",
    "        A.append(row)\n",
    "    print(\"Enter the elements of the constant vector, where each element is space separated\")\n",
    "    B = [complex(x) for x in input().split()]\n",
    "except ValueError:\n",
    "        print(\"please give valid input elements\")\n",
    "        \n",
    "print(lin_eq_solver(A,B))\n",
    "        "
   ]
  },
  {
   "cell_type": "markdown",
   "id": "dabc077a-c2ab-40eb-81ff-a531b3431224",
   "metadata": {},
   "source": [
    "The code takes two inputs from the user: the number of variables (v) and the number of equations (e).  \n",
    "The code defines several functions to solve the system of linear equations. The 'swap' function swaps two rows of the augmented matrix. The 'check_swap_row' function checks for the non zero diagonal element, and if so, swaps that row with another row that has a diagonal element as zero.  \n",
    "\n",
    "The 'lin_eq_solver' function is the main function that implements the Gaussian elimination method. It starts by creating an augmented matrix and then performs row operations to transform the matrix to an **identity matrix**. Finally, it checks if the system of linear equations has a unique solution, no solution, or infinite solutions, and returns the solution if there is one. "
   ]
  },
  {
   "cell_type": "markdown",
   "id": "a04776e7-ae60-4629-93ff-eb7f46ad2dc6",
   "metadata": {},
   "source": [
    "## Comparing above function and linalg.solve function\n"
   ]
  },
  {
   "cell_type": "code",
   "execution_count": 16,
   "id": "3d6b643b-6195-4fa0-8a02-a9f7a20c77d1",
   "metadata": {},
   "outputs": [
    {
     "name": "stdout",
     "output_type": "stream",
     "text": [
      "[-5.147541142786879, 4.209695989078235, -6.450578419592989, -4.977959769741878, 1.0393555313559437, 4.441812590409696, -0.06956016194564185, 5.9379307241151125, 3.5643794192876403, 7.1942722148041325]\n",
      "87.6 µs ± 2.04 µs per loop (mean ± std. dev. of 7 runs, 10,000 loops each)\n",
      "[-5.14754114  4.20969599 -6.45057842 -4.97795977  1.03935553  4.44181259\n",
      " -0.06956016  5.93793072  3.56437942  7.19427221]\n",
      "29.2 µs ± 2.78 µs per loop (mean ± std. dev. of 7 runs, 10,000 loops each)\n"
     ]
    }
   ],
   "source": [
    "A=[]\n",
    "for i in range(10):\n",
    "    A.append([random.randint(1, 20) for i in range(10)])\n",
    "B=[random.randint(1, 200) for i in range(10)]\n",
    "\n",
    "print(lin_eq_solver(A,B))\n",
    "%timeit lin_eq_solver(A,B)\n",
    "\n",
    "x=np.linalg.solve(A,B)\n",
    "print(x)\n",
    "%timeit np.linalg.solve(A,B)"
   ]
  },
  {
   "cell_type": "markdown",
   "id": "e77d7139-fb15-4b9f-904b-79d8af0ac8c1",
   "metadata": {},
   "source": [
    "The above code generates a 10x10 coeffecient matrix A and a constant vector B,Where the linear equations are solved using the function defined above.  Also we are calculating the execution time of the function."
   ]
  },
  {
   "cell_type": "markdown",
   "id": "6d9ed9db-8158-4845-a6f4-e72081a6144c",
   "metadata": {},
   "source": [
    "The time taken to exceute the above functions is different.The **lin_eq_solver funtion takes more time than linalg.solve.**  \n",
    "The lin_eq_solver function defined uses Gaussian elimination method to solve the system of linear equations, while numpy.linalg.solve uses an optimized linear algebra library to solve the system. The optimized linear algebra libraries have been highly optimized for performance and accuracy and use advanced algorithms."
   ]
  },
  {
   "cell_type": "markdown",
   "id": "8860230e-da4f-454b-806f-8bc0870527f1",
   "metadata": {},
   "source": [
    "# circuit simulator"
   ]
  },
  {
   "cell_type": "code",
   "execution_count": 8,
   "id": "70b15d4a-534f-473f-b060-7f8b30a60e3b",
   "metadata": {},
   "outputs": [
    {
     "name": "stdout",
     "output_type": "stream",
     "text": [
      "['R1 GND 1 1e3', 'R2 1 2 4e3', 'R3 2 GND 20e3', 'R4 2 3 8e3', 'R5 GND 4 10e3', 'V1 GND 4 dc 5']\n",
      "['R1', 'GND', '1', '1e3']\n",
      "['R2', '1', '2', '4e3']\n",
      "['R3', '2', 'GND', '20e3']\n",
      "['R4', '2', '3', '8e3']\n",
      "['R5', 'GND', '4', '10e3']\n",
      "['V1', 'GND', '4', 'dc', '5']\n",
      "DC :[0.0, 5.0, 0.0, 0.0, 0.0005]\n",
      "Nodes:{'1': 0, 'GND': 1, '4': 2, '2': 3, '3': 4}\n"
     ]
    }
   ],
   "source": [
    "import numpy as np\n",
    "def NetlistConvert(file_path):\n",
    "    with open(file_path, 'r') as file:\n",
    "            netlist = file.readlines()\n",
    "    net =[]\n",
    "    t = 0\n",
    "    for line in netlist:\n",
    "        if line[0:2] == \".a\": t = 1\n",
    "        if line[0:2] == \".e\": t = 0\n",
    "        if t == 1:\n",
    "             linesplit = line.split(\"#\")[0].split('\\n')[0].split('  ')\n",
    "             net.append(linesplit[0])\n",
    "        if line[0:2] == \".c\": t = 1\n",
    "    return net\n",
    "net = NetlistConvert('ckt1.netlist')\n",
    "print(net)\n",
    "def MatrixSizeInc(MNA, b):\n",
    "    l = MNA.shape[0]\n",
    "    MNA_temp = np.zeros((l+1, l+1))\n",
    "    b_temp = np.zeros((l+1,1))\n",
    "    MNA_temp[:l, :l] = MNA\n",
    "    b_temp[:l, :] = b\n",
    "    return MNA_temp, b_temp\n",
    "def addRes(MNAdc,value,i,j):\n",
    "    MNAdc[i][i] += 1/float(value)\n",
    "    MNAdc[j][j] += 1/float(value)\n",
    "    MNAdc[i][j] -= 1/float(value)\n",
    "    MNAdc[j][i] -= 1/float(value)\n",
    "    return MNAdc\n",
    "def create_MNA_matrix(netlist):\n",
    "    nodes = set()\n",
    "    components = []\n",
    "    v_type = set()\n",
    "    k = 0\n",
    "    t = complex(0,1)\n",
    "    freq = 0\n",
    "    if netlist[-1].startswith(\".ac\"):\n",
    "      split = netlist[-1].split()\n",
    "      freq = float(split[2])*2*math.pi\n",
    "    for line in netlist:\n",
    "      split_line = line.split()\n",
    "      print(split_line)\n",
    "      if len(split_line) == 3:\n",
    "        continue\n",
    "      component_type = split_line[0]\n",
    "      nodes.update([split_line[1], split_line[2]])\n",
    "      try:\n",
    "        components.append((component_type, split_line[1], split_line[2],split_line[3],split_line[4]))\n",
    "      except IndexError:\n",
    "        try:\n",
    "          components.append((component_type, split_line[1], split_line[2],split_line[3]))\n",
    "        except IndexError:\n",
    "          components.append((component_type, split_line[1], split_line[2],split_line[3],split_line[4],split_line[5]))\n",
    "    node_dict = {node: i for i, node in enumerate(nodes)}\n",
    "    num_nodes = len(nodes)\n",
    "    num_components = len(components)\n",
    "    MNA = np.zeros((num_nodes, num_nodes))\n",
    "    b = np.zeros((num_nodes,1))\n",
    "    if freq !=0:\n",
    "        MNA = np.zeros((num_nodes, num_nodes))*t\n",
    "        b = np.zeros((num_nodes,1))*t\n",
    "    for component in components:\n",
    "        try:\n",
    "         component_type, node1, node2, acdc ,value = component\n",
    "        except ValueError:\n",
    "             try:\n",
    "              component_type, node1, node2,value = component\n",
    "             except ValueError:\n",
    "              component_type, node1, node2, acdc ,value, phase = component\n",
    "        i = node_dict[node1]\n",
    "        j = node_dict[node2]\n",
    "        k = node_dict[\"GND\"]\n",
    "        if component_type[0] == 'R':\n",
    "            MNAdc = addRes(MNA,value,i,j)\n",
    "        elif component_type[0] == 'I':\n",
    "            v_type.update([acdc])\n",
    "            b[i] -= float(value)\n",
    "            b[j] += float(value)\n",
    "\n",
    "        elif component_type[0] == 'V':\n",
    "            v_type.update([acdc])\n",
    "            if acdc.startswith(\"dc\"):\n",
    "                MNA,b = MatrixSizeInc(MNA,b)\n",
    "                l = MNA.shape[0]-1\n",
    "                MNA[l][i] += 1\n",
    "                MNA[l][j] -= 1\n",
    "                MNA[i][l] += 1\n",
    "                MNA[j][l] -= 1\n",
    "                b[l] -= float(value)\n",
    "\n",
    "        elif component_type[0] == 'C':\n",
    "            if freq == 0:\n",
    "             print(\"This function cannot compute DC circuit with a capacitance\")\n",
    "            return None\n",
    "            MNA[i][i] += t*float(value)*freq\n",
    "            MNA[j][j] += t*float(value)*freq\n",
    "            MNA[i][j] -= t*float(value)*freq\n",
    "            MNA[j][i] -= t*float(value)*freq\n",
    "        elif component_type[0] == 'L':\n",
    "            if freq == 0:\n",
    "             print(\"This function cannot compute DC circuit with a capacitance\")\n",
    "            return None\n",
    "            MNA[i][i] += 1/t*float(value)*freq\n",
    "            MNA[j][j] += 1/t*float(value)*freq\n",
    "            MNA[i][j] -= 1/t*float(value)*freq\n",
    "            MNA[j][i] -= 1/t*float(value)*freq\n",
    "    b = np.squeeze(b)\n",
    "    MNA = np.delete(MNA, k, axis=0)\n",
    "    MNA = np.delete(MNA, k, axis=1)\n",
    "    b = np.delete(b, k)\n",
    "    v_type = list(v_type)\n",
    "    if len(v_type) == 1 and v_type[0] == 'dc':\n",
    "        return MNA, b, node_dict,0\n",
    "    elif len(v_type) == 1 and v_type[0] == 'ac':\n",
    "        return MNA, b, node_dict,1\n",
    "    else:\n",
    "        return(\"The code doesn't work for DC+AC supply\")\n",
    "net = NetlistConvert('ckt1.netlist')\n",
    "try:\n",
    "    V,b,nodes,check = create_MNA_matrix(net)\n",
    "    V = V.tolist()\n",
    "    b = b.tolist()\n",
    "    a = lin_eq_solver(V,b)\n",
    "    if check == 0:\n",
    "      print(f\"DC :{a}\\nNodes:{nodes}\")\n",
    "    if check == 1:\n",
    "      print(f\"AC :{a}\\nNodes:{nodes}\")\n",
    "except ValueError:\n",
    "    a = create_MNA_matrix(net)\n",
    "pass"
   ]
  },
  {
   "cell_type": "markdown",
   "id": "cb0061a3-2bb2-4f81-8ba8-6292adcb5c2c",
   "metadata": {},
   "source": [
    "\n",
    "This code simulates a linear time-invariant electrical circuit. The code reads a netlist file and creates the corresponding modified nodal analysis (MNA) matrix and vector. The MNA matrix and vector can then be used to solve for the voltages and currents in the circuit.  \n",
    "\n",
    "Function Descriptions  \n",
    "**NetlistConvert(file_path)**\n",
    "This function takes the file path of the netlist file and returns a list of the components in the netlist.  \n",
    "\n",
    "Input  \n",
    "**file_path (string):** The file path of the netlist file  \n",
    "Output  \n",
    "net (list): A list of the components in the netlist  \n",
    "**MatrixSizeInc(MNA, b)**  \n",
    "This function increases the size of the MNA matrix and b vector to accommodate additional components.\n",
    "\n",
    "Input  \n",
    "MNA (2D numpy array): The MNA matrix  \n",
    "b (2D numpy array): The b vector  \n",
    "Output  \n",
    "MNA_temp (2D numpy array): The increased MNA matrix  \n",
    "b_temp (2D numpy array): The increased b vector  \n",
    "addRes(MNAdc, value, i, j)  \n",
    "This function adds the resistance component to the MNA matrix and b vector.  \n",
    "\n",
    "Input  \n",
    "MNAdc (2D numpy array): The MNA matrix  \n",
    "value (float): The resistance value  \n",
    "i (int): The index of node 1\n",
    "j (int): The index of node 2  \n",
    "Output  \n",
    "MNAdc (2D numpy array): The updated MNA matrix\n",
    "create_MNA_matrix(netlist)\n",
    "This function creates the MNA matrix and b vector from the netlist.  "
   ]
  }
 ],
 "metadata": {
  "kernelspec": {
   "display_name": "Python 3 (ipykernel)",
   "language": "python",
   "name": "python3"
  },
  "language_info": {
   "codemirror_mode": {
    "name": "ipython",
    "version": 3
   },
   "file_extension": ".py",
   "mimetype": "text/x-python",
   "name": "python",
   "nbconvert_exporter": "python",
   "pygments_lexer": "ipython3",
   "version": "3.9.2"
  },
  "vscode": {
   "interpreter": {
    "hash": "135c9c029983d30fe2c25215b219c39403965bc9bf9257a46b5d1e1e22d97d61"
   }
  }
 },
 "nbformat": 4,
 "nbformat_minor": 5
}
