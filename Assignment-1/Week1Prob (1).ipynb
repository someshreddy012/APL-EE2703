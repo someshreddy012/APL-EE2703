{
 "cells": [
  {
   "cell_type": "markdown",
   "id": "b710f98a-fd71-41a5-a527-69449f116c7c",
   "metadata": {},
   "source": [
    "# Document metadata\n",
    "\n",
    "> *Problem statement: modify this document so that the author name reflects your name and roll number.  Explain the changes you needed to make here.  If you use other approaches such as LaTeX to generate the PDF, explain the differences between the notebook approach and what you have used.*"
   ]
  },
  {
   "cell_type": "markdown",
   "id": "4a423a3a-60de-4ef1-9f7c-1604171a3993",
   "metadata": {},
   "source": [
    "Changing author name  \n",
    "1. Go to property inspector\n",
    "2. Go to advanced tools  \n",
    "3. In document meta data section,change the author name and email address which is in **JSON** format"
   ]
  },
  {
   "cell_type": "markdown",
   "id": "47576f05-90e1-4c8b-b75b-13ebffe95171",
   "metadata": {},
   "source": [
    "# Basic Data Types\n",
    "\n",
    "Here we have a series of small problems involving various basic data types in Python.  You are required to complete the code where required, and give *brief* explanations of your answers.  Remember that the documentation and explanation is as important as the answer.\n",
    "\n",
    "For each of the following cells, first execute them, and then give a brief explanation of why the answer comes out to be the way it does.  If there is an error during execution of the cell, explain how you fixed it.  **Add a new cell of type Markdown with the explanation** after the corresponding cell.  If you are using plain Python, add suitable comments after each line and explain this in the documentation (clearly you would be better off using Notebooks here)."
   ]
  },
  {
   "cell_type": "markdown",
   "id": "90d271f4",
   "metadata": {
    "tags": []
   },
   "source": [
    "## Numerical types"
   ]
  },
  {
   "cell_type": "code",
   "execution_count": 1,
   "id": "1e2d2e6e",
   "metadata": {},
   "outputs": [
    {
     "name": "stdout",
     "output_type": "stream",
     "text": [
      "2.4\n"
     ]
    }
   ],
   "source": [
    "print(12 / 5)"
   ]
  },
  {
   "cell_type": "markdown",
   "id": "1858705c-1d91-4f27-9a45-ce05d22f32af",
   "metadata": {},
   "source": [
    " Here **'/'** is division operator and it performs **floating point division.**\n",
    "Even if both the numbers are integers it return a floating point number."
   ]
  },
  {
   "cell_type": "code",
   "execution_count": 2,
   "id": "1b587eb7",
   "metadata": {
    "tags": []
   },
   "outputs": [
    {
     "name": "stdout",
     "output_type": "stream",
     "text": [
      "2\n"
     ]
    }
   ],
   "source": [
    "print(12 // 5)"
   ]
  },
  {
   "cell_type": "markdown",
   "id": "0cef90a7-ff0b-4095-a7be-f12288f5aa58",
   "metadata": {},
   "source": [
    "**'//'** is a **floor division operator.** It return the largest integer integer which is less than or equal to the answer of the actual division."
   ]
  },
  {
   "cell_type": "code",
   "execution_count": 3,
   "id": "97a6c535",
   "metadata": {},
   "outputs": [
    {
     "name": "stdout",
     "output_type": "stream",
     "text": [
      "10 10 1.0\n"
     ]
    }
   ],
   "source": [
    "a=b=10\n",
    "print(a,b,a/b)"
   ]
  },
  {
   "cell_type": "markdown",
   "id": "f1e75ad1-c5d3-4e60-8d44-ba5afaeefcca",
   "metadata": {},
   "source": [
    "Here a and b variables are declared as integers and they are equated to 10."
   ]
  },
  {
   "cell_type": "markdown",
   "id": "af329d1c",
   "metadata": {
    "tags": []
   },
   "source": [
    "## Strings and related operations"
   ]
  },
  {
   "cell_type": "code",
   "execution_count": 4,
   "id": "ba913542",
   "metadata": {},
   "outputs": [
    {
     "name": "stdout",
     "output_type": "stream",
     "text": [
      "Hello \n"
     ]
    }
   ],
   "source": [
    "a = \"Hello \"\n",
    "print(a)"
   ]
  },
  {
   "cell_type": "markdown",
   "id": "5ccdab16-b0e2-49cd-a30a-c04722a5eb9c",
   "metadata": {},
   "source": [
    "Here we declared a variable 'a'.We are printing it."
   ]
  },
  {
   "cell_type": "markdown",
   "id": "90d3c0ec-ea4b-4ecf-beeb-b0df33372992",
   "metadata": {},
   "source": [
    "#### Correct Code"
   ]
  },
  {
   "cell_type": "code",
   "execution_count": 5,
   "id": "8f8eda26-2a8a-40b8-84a4-65265b0f0dc7",
   "metadata": {},
   "outputs": [
    {
     "name": "stdout",
     "output_type": "stream",
     "text": [
      "Hello 10\n"
     ]
    }
   ],
   "source": [
    "print(a+str(b))"
   ]
  },
  {
   "cell_type": "markdown",
   "id": "7a666694-cc48-4e97-97a3-b7059a98d497",
   "metadata": {},
   "source": [
    "Here b is integer and a is string,so first we are converting integer to string using str function and then we are concatenating with a."
   ]
  },
  {
   "cell_type": "code",
   "execution_count": 6,
   "id": "e2793fa4",
   "metadata": {},
   "outputs": [
    {
     "name": "stdout",
     "output_type": "stream",
     "text": [
      "----------------------------------------\n",
      "                                        42\n",
      "*-*-*-*-*-*-*-*-*-*-*-*-*-*-*-*-*-*-*-*-\n"
     ]
    }
   ],
   "source": [
    "# Print out a line of 40 '-' signs (to look like one long line)\n",
    "# Then print the number 42 so that it is right justified to the end of \n",
    "# the above line\n",
    "\n",
    "for i in range(40):\n",
    "    print(\"-\",end=\"\")\n",
    "print(\"\\n\",end=\"\")\n",
    "print(f\"{42:>42}\")\n",
    "\n",
    "# Then print one more line of length 40, but with the pattern '*-*-*-'\n",
    "\n",
    "print(\"*-\"*20)\n"
   ]
  },
  {
   "cell_type": "markdown",
   "id": "741f96ca-b296-438d-b3eb-7a1927ff89a4",
   "metadata": {},
   "source": [
    "Here line is printed using a for loop,and to avoid printing a new line after every '-' sign **end parameter** is used,it specifies what character should be used at end of output line"
   ]
  },
  {
   "cell_type": "markdown",
   "id": "c173a060-3a63-4f55-a362-7793a060a8a3",
   "metadata": {},
   "source": [
    "To print  '*-*-* '   i have multiplied the string \" *-\" i output the string 20 times to get output of length 40"
   ]
  },
  {
   "cell_type": "code",
   "execution_count": 7,
   "id": "52f8a699-7251-470b-84bd-4dd5685ba35b",
   "metadata": {},
   "outputs": [
    {
     "name": "stdout",
     "output_type": "stream",
     "text": [
      "The variable 'a' has the value Hello  and 'b' has the value         10\n"
     ]
    }
   ],
   "source": [
    "print(f\"The variable 'a' has the value {a} and 'b' has the value {b:>10}\")"
   ]
  },
  {
   "cell_type": "markdown",
   "id": "004d3998-fdf1-4f4f-b7e9-9541232c6ceb",
   "metadata": {},
   "source": [
    "Here \"f\" in print function is for string formatting.  \n",
    "It is used to embed expressions inside a string using curly braces  \n",
    "*{b:>10}* means b is right justified to 10 spaces"
   ]
  },
  {
   "cell_type": "code",
   "execution_count": 8,
   "id": "9d746f81",
   "metadata": {},
   "outputs": [
    {
     "name": "stdout",
     "output_type": "stream",
     "text": [
      "EE2703                      Applied Programming Lab\n",
      "EE2003                        Computer Organization\n",
      "EE5311                            Digital IC design\n"
     ]
    }
   ],
   "source": [
    "# Create a list of dictionaries where each entry in the list has two keys:\n",
    "# - id: this will be the ID number of a course, for example 'EE2703'\n",
    "# - name: this will be the name, for example 'Applied Programming Lab'\n",
    "# Add 3 entries:\n",
    "# EE2703 -> Applied Programming Lab\n",
    "# EE2003 -> Computer Organization\n",
    "# EE5311 -> Digital IC Design\n",
    "# Then print out the entries in a neatly formatted table where the \n",
    "# ID number is left justified\n",
    "# to 10 spaces and the name is right justified to 40 spaces.  \n",
    "# That is it should look like:\n",
    "\n",
    "# EE2703                     Applied Programming Lab\n",
    "# EE2003                       Computer Organization\n",
    "# EE5131                           Digital IC Design\n",
    "\n",
    "courses = []\n",
    "course1 = dict(ID = \"EE2703\",name = \"Applied Programming Lab\")\n",
    "course2 = dict(ID = \"EE2003\",name = \"Computer Organization\")\n",
    "course3 = dict(ID = \"EE5311\",name = \"Digital IC design\")\n",
    "\n",
    "courses.append(course1)\n",
    "courses.append(course2)\n",
    "courses.append(course3)\n",
    "\n",
    "for course in courses:\n",
    "    print(\"{:<10} {:>40}\".format(course[\"ID\"], course[\"name\"]))\n",
    "\n"
   ]
  },
  {
   "cell_type": "markdown",
   "id": "ec8f5606-2583-4095-a1aa-c2c00e4fc15b",
   "metadata": {},
   "source": [
    "Here first I have created a course list,and then created dictionaries with name and ID.  \n",
    "*course.append()* this means,i am adding each dictionary into course list.  \n",
    "Then printing all the courses in the list using for loop.  \n",
    "*\"{:<10} {:>40}\"* this syntax tells that ID is left justified by 10 spaces and course name is right justified with 40 spaces"
   ]
  },
  {
   "cell_type": "markdown",
   "id": "959169d6",
   "metadata": {
    "tags": []
   },
   "source": [
    "# Functions for general manipulation"
   ]
  },
  {
   "cell_type": "code",
   "execution_count": 12,
   "id": "fb799573",
   "metadata": {},
   "outputs": [
    {
     "name": "stdin",
     "output_type": "stream",
     "text": [
      " 40\n"
     ]
    },
    {
     "name": "stdout",
     "output_type": "stream",
     "text": [
      "0000000000101000\n"
     ]
    }
   ],
   "source": [
    "# Write a function with name 'twosc' that will take a single integer \n",
    "# as input, and print out the binary representation of the number \n",
    "# as output.  The function should take one other optional parameter N \n",
    "# which represents the number of bits.  The final result should always \n",
    "# contain N characters as output (either 0 or 1) and should use \n",
    "# two's complement to represent the number if it is negative.\n",
    "# Examples:\n",
    "# twosc(10): 0000000000001010\n",
    "# twosc(-10): 1111111111110110\n",
    "# twosc(-20, 8): 11101100\n",
    "#\n",
    "# Use only functions from the Python standard library to do this.\n",
    "def twosc(x, N):\n",
    "    if(x<0):\n",
    "        x=(2**N)+x\n",
    "    s=\"\"\n",
    "    while N>0:\n",
    "        if x%2==0:\n",
    "            s=\"0\"+s\n",
    "        else:\n",
    "            s=\"1\"+s\n",
    "        x=x//2\n",
    "        N=N-1\n",
    "    return s\n",
    "n=int(input())\n",
    "print(twosc(n,16))\n",
    "\n"
   ]
  },
  {
   "cell_type": "markdown",
   "id": "87892b1a-e5bd-4f7f-89cb-337f6dddd40e",
   "metadata": {},
   "source": [
    "If the number is negative then the number is converted to 2^n + n or else it is continued.  \n",
    "Running a while loop until N reaches 0.Inside while loop the current binary string is updated after every iteration with a new binary digit addition to old string."
   ]
  },
  {
   "cell_type": "markdown",
   "id": "d9845f63",
   "metadata": {},
   "source": [
    "# List comprehensions and decorators"
   ]
  },
  {
   "cell_type": "code",
   "execution_count": 13,
   "id": "9f573a70-d7f0-4496-926f-34b7cff5492f",
   "metadata": {},
   "outputs": [
    {
     "data": {
      "text/plain": [
       "[0, 4, 16, 36, 64]"
      ]
     },
     "execution_count": 13,
     "metadata": {},
     "output_type": "execute_result"
    }
   ],
   "source": [
    "# Explain the output you see below\n",
    "[x*x for x in range(10) if x%2 == 0]"
   ]
  },
  {
   "cell_type": "markdown",
   "id": "051489ea-bc73-4753-8241-819199908da0",
   "metadata": {},
   "source": [
    "The output is a **list comprehension** that creates a list of the squares of all even numbers between 0 and 9. \n",
    "The list comprehension contains of three parts:  \n",
    "1.The expression x\\*x is calculated  \n",
    "2.In the for loop x is iterated from 0 to 9  \n",
    "3.The if statement filter only even numbers and first expression is calculated only when if statement is true\n"
   ]
  },
  {
   "cell_type": "code",
   "execution_count": 14,
   "id": "d34ddb81-5caf-40a7-ac1f-43ce08d64220",
   "metadata": {},
   "outputs": [
    {
     "data": {
      "text/plain": [
       "[1, 2, 3, 4, 5, 6, 7, 8, 9]"
      ]
     },
     "execution_count": 14,
     "metadata": {},
     "output_type": "execute_result"
    }
   ],
   "source": [
    "# Explain the output you see below\n",
    "matrix = [[1,2,3], [4,5,6], [7,8,9]]\n",
    "[v for row in matrix for v in row]"
   ]
  },
  {
   "cell_type": "markdown",
   "id": "d7142644-03e5-4f2c-b296-f1ab80efb9da",
   "metadata": {},
   "source": [
    "The output is a list comprehension.The output contains all the values of a matrix.  \n",
    "The *for row in matrix* for loop iterates over all the sublists in matrix.  \n",
    "The *for v in row* nested for loop iterates over each value in sublist.  "
   ]
  },
  {
   "cell_type": "code",
   "execution_count": 15,
   "id": "e7349601-a068-4d91-bc0f-bcc755c4b215",
   "metadata": {},
   "outputs": [
    {
     "name": "stdout",
     "output_type": "stream",
     "text": [
      "[2, 3, 5, 7, 11, 13, 17, 19, 23, 29, 31, 37, 41, 43, 47, 53, 59, 61, 67, 71, 73, 79, 83, 89, 97]\n"
     ]
    }
   ],
   "source": [
    "# Define a function `is_prime(x)` that will return True if a number \n",
    "# is prime, or False otherwise.\n",
    "# Use it to write a one-line statement that will print all \n",
    "# prime numbers between 1 and 100\n",
    "\n",
    "def is_prime(x):\n",
    "    if x<2:\n",
    "        return False\n",
    "    for i in range(2,(x//2)+1):\n",
    "        if x%i == 0:\n",
    "            return False\n",
    "    return True\n",
    "print([x for x in range(1,101) if is_prime(x)])"
   ]
  },
  {
   "cell_type": "markdown",
   "id": "45c49b5b-f2b0-4b53-9522-b52683f23b93",
   "metadata": {},
   "source": [
    "The given number is checked with all the numbers from 2 to n/2,whether it is divisible or not,using a for loop.  \n",
    "Finally the output is a list comprehension,which is printed as a list."
   ]
  },
  {
   "cell_type": "code",
   "execution_count": 17,
   "id": "14c77557-d977-47ac-8e64-95987cccae4f",
   "metadata": {},
   "outputs": [
    {
     "name": "stdout",
     "output_type": "stream",
     "text": [
      "Hello happy flappy world\n"
     ]
    }
   ],
   "source": [
    "# Explain the output below\n",
    "def f1(x):\n",
    "    return \"happy \" + x\n",
    "def f2(f):\n",
    "    def wrapper(*args, **kwargs):\n",
    "        return \"Hello \" + f(*args, **kwargs) + \" world\"\n",
    "    return wrapper\n",
    "f3 = f2(f1)\n",
    "print(f3(\"flappy\"))"
   ]
  },
  {
   "cell_type": "markdown",
   "id": "cf126d03-0105-4ebf-8372-4dddc30f98e7",
   "metadata": {},
   "source": [
    "The f1 function takes an argument x and returns a string \"happy \" concatenated with x  \n",
    "The f2 function takes a function f as an argument and returns a new function wrapper.  \n",
    "The f3 variable is assigned the result of calling f2 with f1 as an argument.  \n",
    "f1 returns \"happy flappy\" and f3 returns \"hello happy flappy world\""
   ]
  },
  {
   "cell_type": "code",
   "execution_count": 18,
   "id": "ede870a7-6564-4930-9ff1-818f075c3e43",
   "metadata": {},
   "outputs": [
    {
     "name": "stdout",
     "output_type": "stream",
     "text": [
      "Hello nappy flappy world\n"
     ]
    }
   ],
   "source": [
    "# Explain the output below\n",
    "@f2\n",
    "def f4(x):\n",
    "    return \"nappy \" + x\n",
    "\n",
    "print(f4(\"flappy\"))"
   ]
  },
  {
   "cell_type": "markdown",
   "id": "bb54feb3-0af0-432f-aa6f-3b104a65c22c",
   "metadata": {},
   "source": [
    "The @f2 syntax is a decorator in Python.  \n",
    "That means here f4=f2(f4).  \n",
    "Initially f4 returns \"happy nappy\" as argument to f2,which inturn returns \"Hello happy nappy world\"."
   ]
  },
  {
   "cell_type": "markdown",
   "id": "de144cc1-a06a-4e96-8017-7887296dddc0",
   "metadata": {},
   "source": [
    "# File IO"
   ]
  },
  {
   "cell_type": "code",
   "execution_count": 20,
   "id": "09e62f52-fec6-4026-a4d8-ca4b87b19732",
   "metadata": {},
   "outputs": [
    {
     "name": "stdin",
     "output_type": "stream",
     "text": [
      " 20\n"
     ]
    }
   ],
   "source": [
    "# Write a function to generate prime numbers from 1 to N (input)\n",
    "# and write them to a file (second argument).  You can reuse the prime\n",
    "# detection function written earlier.\n",
    "\n",
    "def is_prime(x):\n",
    "    if x<2:\n",
    "        return False\n",
    "    for i in range(2,(x//2)+1):\n",
    "        if x%i == 0:\n",
    "            return False\n",
    "    return True\n",
    "\n",
    "def write_primes(N, filename):\n",
    "    with open(filename,\"w\") as file:\n",
    "        for i in range(1,N+1):\n",
    "            if is_prime(i):\n",
    "                file.write(str(i)+\" \")\n",
    "n=int(input())\n",
    "write_primes(n,\"primes\")\n",
    "    "
   ]
  },
  {
   "cell_type": "markdown",
   "id": "9b2de5cb-13c3-4804-9576-e7bb6fd3a371",
   "metadata": {},
   "source": [
    "# Exceptions"
   ]
  },
  {
   "cell_type": "code",
   "execution_count": 21,
   "id": "eec5626e-6e92-45bf-b307-2459de0f44e1",
   "metadata": {},
   "outputs": [
    {
     "name": "stdin",
     "output_type": "stream",
     "text": [
      "Enter a number  5\n"
     ]
    },
    {
     "name": "stdout",
     "output_type": "stream",
     "text": [
      "5 is a prime number\n"
     ]
    }
   ],
   "source": [
    "# Write a function that takes in a number as input, and prints out \n",
    "# whether it is a prime or not.  If the input is not an integer,\n",
    "# print an appropriate error message.  Use exceptions to detect problems.\n",
    "def check_prime(x):\n",
    "    try:\n",
    "        x=int(x)\n",
    "        if(is_prime(x)):\n",
    "            print(f\"{x} is a prime number\")\n",
    "        else:\n",
    "            print(f\"{x} is not a prime number\")\n",
    "    except ValueError:\n",
    "        print(f\"{x} is not an integer\")\n",
    "\n",
    "x=input(\"Enter a number \")\n",
    "check_prime(x)"
   ]
  },
  {
   "cell_type": "markdown",
   "id": "329757e2-3fb3-4521-9a08-bb700253f9f7",
   "metadata": {},
   "source": [
    "The check_prime function tries to convert the input x to an integer using the int(x) function.  \n",
    "If the conversion is successful, the function checks if the integer is a prime number by calling the is_prime function. The result of the is_prime function is passed to an if statement that prints a message indicating whether the number is a prime or not.  \n",
    "If the conversion of x to an integer fails, a ValueError exception is raised, and the code in the except block is executed to print a message indicating that x is not an integer."
   ]
  },
  {
   "cell_type": "markdown",
   "id": "bc25444c-67ff-456b-8ec2-0f0c1f03a0cc",
   "metadata": {},
   "source": [
    "# Process of running code\n"
   ]
  },
  {
   "cell_type": "markdown",
   "id": "d62f5a99-4b8d-4e27-a9c6-3b6e4b97b0c5",
   "metadata": {},
   "source": [
    "The note book is written in jupyter\n",
    "* Run the cells in sequence to generate output  \n",
    "\n",
    "Jupyter notebook can be opened in several other platforms like\n",
    "* Microsoft Azure\n",
    "* Google colab\n",
    "* Kaggle  \n",
    "\n",
    "No other packeges are required."
   ]
  }
 ],
 "metadata": {
  "authors": [
   {
    "name": "D.Somesh Reddy <ee21b043@smail.iitm.ac.in>"
   }
  ],
  "kernelspec": {
   "display_name": "Python 3 (ipykernel)",
   "language": "python",
   "name": "python3"
  },
  "language_info": {
   "codemirror_mode": {
    "name": "ipython",
    "version": 3
   },
   "file_extension": ".py",
   "mimetype": "text/x-python",
   "name": "python",
   "nbconvert_exporter": "python",
   "pygments_lexer": "ipython3",
   "version": "3.9.2"
  },
  "title": "EE2703 - Week 1",
  "toc-autonumbering": true,
  "vscode": {
   "interpreter": {
    "hash": "b0fa6594d8f4cbf19f97940f81e996739fb7646882a419484c72d19e05852a7e"
   }
  }
 },
 "nbformat": 4,
 "nbformat_minor": 5
}
